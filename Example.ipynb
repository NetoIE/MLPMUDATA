{
  "nbformat": 4,
  "nbformat_minor": 0,
  "metadata": {
    "colab": {
      "name": "Example.ipynb",
      "provenance": [],
      "collapsed_sections": []
    },
    "kernelspec": {
      "name": "python3",
      "display_name": "Python 3"
    },
    "language_info": {
      "name": "python"
    },
    "widgets": {
      "application/vnd.jupyter.widget-state+json": {
        "dbfe351a5f434380af7e312c2c9e84a4": {
          "model_module": "@jupyter-widgets/controls",
          "model_name": "FloatRangeSliderModel",
          "model_module_version": "1.5.0",
          "state": {
            "_view_name": "FloatRangeSliderView",
            "style": "IPY_MODEL_159c9097c44648e898f20880139edc4d",
            "_dom_classes": [],
            "description": "Magnitude (pu)  ±",
            "step": 0.001,
            "_model_name": "FloatRangeSliderModel",
            "orientation": "horizontal",
            "max": 0.1,
            "_view_module": "@jupyter-widgets/controls",
            "_model_module_version": "1.5.0",
            "value": [
              0.005,
              0.01
            ],
            "_view_count": null,
            "disabled": false,
            "_view_module_version": "1.5.0",
            "min": 0.005,
            "continuous_update": true,
            "readout_format": ".3f",
            "description_tooltip": null,
            "readout": true,
            "_model_module": "@jupyter-widgets/controls",
            "layout": "IPY_MODEL_84a8beaa665f4194b523f3ffe5d928b7"
          }
        },
        "159c9097c44648e898f20880139edc4d": {
          "model_module": "@jupyter-widgets/controls",
          "model_name": "SliderStyleModel",
          "model_module_version": "1.5.0",
          "state": {
            "_view_name": "StyleView",
            "handle_color": null,
            "_model_name": "SliderStyleModel",
            "description_width": "30%",
            "_view_module": "@jupyter-widgets/base",
            "_model_module_version": "1.5.0",
            "_view_count": null,
            "_view_module_version": "1.2.0",
            "_model_module": "@jupyter-widgets/controls"
          }
        },
        "84a8beaa665f4194b523f3ffe5d928b7": {
          "model_module": "@jupyter-widgets/base",
          "model_name": "LayoutModel",
          "model_module_version": "1.2.0",
          "state": {
            "_view_name": "LayoutView",
            "grid_template_rows": null,
            "right": null,
            "justify_content": null,
            "_view_module": "@jupyter-widgets/base",
            "overflow": null,
            "_model_module_version": "1.2.0",
            "_view_count": null,
            "flex_flow": null,
            "width": "50%",
            "min_width": null,
            "border": null,
            "align_items": null,
            "bottom": null,
            "_model_module": "@jupyter-widgets/base",
            "top": null,
            "grid_column": null,
            "overflow_y": null,
            "overflow_x": null,
            "grid_auto_flow": null,
            "grid_area": null,
            "grid_template_columns": null,
            "flex": null,
            "_model_name": "LayoutModel",
            "justify_items": null,
            "grid_row": null,
            "max_height": null,
            "align_content": null,
            "visibility": null,
            "align_self": null,
            "height": null,
            "min_height": null,
            "padding": null,
            "grid_auto_rows": null,
            "grid_gap": null,
            "max_width": null,
            "order": null,
            "_view_module_version": "1.2.0",
            "grid_template_areas": null,
            "object_position": null,
            "object_fit": null,
            "grid_auto_columns": null,
            "margin": null,
            "display": null,
            "left": null
          }
        },
        "643c38cedb94425290eff3962b50d604": {
          "model_module": "@jupyter-widgets/controls",
          "model_name": "IntRangeSliderModel",
          "model_module_version": "1.5.0",
          "state": {
            "_view_name": "IntRangeSliderView",
            "style": "IPY_MODEL_e63b015acabe4011b4f16ce8a1383728",
            "_dom_classes": [],
            "description": "Temporality (samples)",
            "step": 1,
            "_model_name": "IntRangeSliderModel",
            "orientation": "horizontal",
            "max": 120,
            "_view_module": "@jupyter-widgets/controls",
            "_model_module_version": "1.5.0",
            "value": [
              30,
              120
            ],
            "_view_count": null,
            "disabled": false,
            "_view_module_version": "1.5.0",
            "min": 30,
            "continuous_update": true,
            "readout_format": "d",
            "description_tooltip": null,
            "readout": true,
            "_model_module": "@jupyter-widgets/controls",
            "layout": "IPY_MODEL_543ce81b817345e7a9a5471872d9ddea"
          }
        },
        "e63b015acabe4011b4f16ce8a1383728": {
          "model_module": "@jupyter-widgets/controls",
          "model_name": "SliderStyleModel",
          "model_module_version": "1.5.0",
          "state": {
            "_view_name": "StyleView",
            "handle_color": null,
            "_model_name": "SliderStyleModel",
            "description_width": "30%",
            "_view_module": "@jupyter-widgets/base",
            "_model_module_version": "1.5.0",
            "_view_count": null,
            "_view_module_version": "1.2.0",
            "_model_module": "@jupyter-widgets/controls"
          }
        },
        "543ce81b817345e7a9a5471872d9ddea": {
          "model_module": "@jupyter-widgets/base",
          "model_name": "LayoutModel",
          "model_module_version": "1.2.0",
          "state": {
            "_view_name": "LayoutView",
            "grid_template_rows": null,
            "right": null,
            "justify_content": null,
            "_view_module": "@jupyter-widgets/base",
            "overflow": null,
            "_model_module_version": "1.2.0",
            "_view_count": null,
            "flex_flow": null,
            "width": "50%",
            "min_width": null,
            "border": null,
            "align_items": null,
            "bottom": null,
            "_model_module": "@jupyter-widgets/base",
            "top": null,
            "grid_column": null,
            "overflow_y": null,
            "overflow_x": null,
            "grid_auto_flow": null,
            "grid_area": null,
            "grid_template_columns": null,
            "flex": null,
            "_model_name": "LayoutModel",
            "justify_items": null,
            "grid_row": null,
            "max_height": null,
            "align_content": null,
            "visibility": null,
            "align_self": null,
            "height": null,
            "min_height": null,
            "padding": null,
            "grid_auto_rows": null,
            "grid_gap": null,
            "max_width": null,
            "order": null,
            "_view_module_version": "1.2.0",
            "grid_template_areas": null,
            "object_position": null,
            "object_fit": null,
            "grid_auto_columns": null,
            "margin": null,
            "display": null,
            "left": null
          }
        },
        "f5cf1efc816446a2ae3c5b574cb0c21d": {
          "model_module": "@jupyter-widgets/controls",
          "model_name": "VBoxModel",
          "model_module_version": "1.5.0",
          "state": {
            "_view_name": "VBoxView",
            "_dom_classes": [],
            "_model_name": "VBoxModel",
            "_view_module": "@jupyter-widgets/controls",
            "_model_module_version": "1.5.0",
            "_view_count": null,
            "_view_module_version": "1.5.0",
            "box_style": "",
            "layout": "IPY_MODEL_db437aae368346669235f208913de402",
            "_model_module": "@jupyter-widgets/controls",
            "children": [
              "IPY_MODEL_870b9fd370bd4aeda5c190cd81d1037a",
              "IPY_MODEL_351ebffbfc2c432aafa7e4c71580eb9a",
              "IPY_MODEL_07ca8b611d65416f92399de867f0ebcd"
            ]
          }
        },
        "db437aae368346669235f208913de402": {
          "model_module": "@jupyter-widgets/base",
          "model_name": "LayoutModel",
          "model_module_version": "1.2.0",
          "state": {
            "_view_name": "LayoutView",
            "grid_template_rows": null,
            "right": null,
            "justify_content": null,
            "_view_module": "@jupyter-widgets/base",
            "overflow": null,
            "_model_module_version": "1.2.0",
            "_view_count": null,
            "flex_flow": null,
            "width": null,
            "min_width": null,
            "border": null,
            "align_items": null,
            "bottom": null,
            "_model_module": "@jupyter-widgets/base",
            "top": null,
            "grid_column": null,
            "overflow_y": null,
            "overflow_x": null,
            "grid_auto_flow": null,
            "grid_area": null,
            "grid_template_columns": null,
            "flex": null,
            "_model_name": "LayoutModel",
            "justify_items": null,
            "grid_row": null,
            "max_height": null,
            "align_content": null,
            "visibility": null,
            "align_self": null,
            "height": null,
            "min_height": null,
            "padding": null,
            "grid_auto_rows": null,
            "grid_gap": null,
            "max_width": null,
            "order": null,
            "_view_module_version": "1.2.0",
            "grid_template_areas": null,
            "object_position": null,
            "object_fit": null,
            "grid_auto_columns": null,
            "margin": null,
            "display": null,
            "left": null
          }
        },
        "870b9fd370bd4aeda5c190cd81d1037a": {
          "model_module": "@jupyter-widgets/controls",
          "model_name": "LabelModel",
          "model_module_version": "1.5.0",
          "state": {
            "_view_name": "LabelView",
            "style": "IPY_MODEL_bb7c237dd1bd460d83ebabee49eae855",
            "_dom_classes": [],
            "description": "",
            "_model_name": "LabelModel",
            "placeholder": "​",
            "_view_module": "@jupyter-widgets/controls",
            "_model_module_version": "1.5.0",
            "value": "Anomaly types",
            "_view_count": null,
            "_view_module_version": "1.5.0",
            "description_tooltip": null,
            "_model_module": "@jupyter-widgets/controls",
            "layout": "IPY_MODEL_7b95045c85b14161b20f0be1d241f076"
          }
        },
        "351ebffbfc2c432aafa7e4c71580eb9a": {
          "model_module": "@jupyter-widgets/controls",
          "model_name": "IntTextModel",
          "model_module_version": "1.5.0",
          "state": {
            "_view_name": "IntTextView",
            "style": "IPY_MODEL_b25e70e31013481fb544713c4ae7d77f",
            "_dom_classes": [],
            "description": "Anomalies per class",
            "_model_name": "IntTextModel",
            "_view_module": "@jupyter-widgets/controls",
            "_model_module_version": "1.5.0",
            "value": 10000,
            "_view_count": null,
            "disabled": false,
            "_view_module_version": "1.5.0",
            "continuous_update": false,
            "step": 1,
            "description_tooltip": null,
            "_model_module": "@jupyter-widgets/controls",
            "layout": "IPY_MODEL_3d187637918940cebd93acc47e300787"
          }
        },
        "07ca8b611d65416f92399de867f0ebcd": {
          "model_module": "@jupyter-widgets/controls",
          "model_name": "HBoxModel",
          "model_module_version": "1.5.0",
          "state": {
            "_view_name": "HBoxView",
            "_dom_classes": [],
            "_model_name": "HBoxModel",
            "_view_module": "@jupyter-widgets/controls",
            "_model_module_version": "1.5.0",
            "_view_count": null,
            "_view_module_version": "1.5.0",
            "box_style": "",
            "layout": "IPY_MODEL_43baeba6ec9b48a5a7099da66056d4d9",
            "_model_module": "@jupyter-widgets/controls",
            "children": [
              "IPY_MODEL_f123c9c9a085480bb76c0ee635100b9f",
              "IPY_MODEL_64ff0921d3874e9ab5692250b400400b",
              "IPY_MODEL_b4b8bec713f94d0b8071c7ab336927ff"
            ]
          }
        },
        "bb7c237dd1bd460d83ebabee49eae855": {
          "model_module": "@jupyter-widgets/controls",
          "model_name": "DescriptionStyleModel",
          "model_module_version": "1.5.0",
          "state": {
            "_view_name": "StyleView",
            "_model_name": "DescriptionStyleModel",
            "description_width": "",
            "_view_module": "@jupyter-widgets/base",
            "_model_module_version": "1.5.0",
            "_view_count": null,
            "_view_module_version": "1.2.0",
            "_model_module": "@jupyter-widgets/controls"
          }
        },
        "7b95045c85b14161b20f0be1d241f076": {
          "model_module": "@jupyter-widgets/base",
          "model_name": "LayoutModel",
          "model_module_version": "1.2.0",
          "state": {
            "_view_name": "LayoutView",
            "grid_template_rows": null,
            "right": null,
            "justify_content": "center",
            "_view_module": "@jupyter-widgets/base",
            "overflow": null,
            "_model_module_version": "1.2.0",
            "_view_count": null,
            "flex_flow": null,
            "width": null,
            "min_width": null,
            "border": null,
            "align_items": null,
            "bottom": null,
            "_model_module": "@jupyter-widgets/base",
            "top": null,
            "grid_column": null,
            "overflow_y": null,
            "overflow_x": null,
            "grid_auto_flow": null,
            "grid_area": null,
            "grid_template_columns": null,
            "flex": null,
            "_model_name": "LayoutModel",
            "justify_items": null,
            "grid_row": null,
            "max_height": null,
            "align_content": null,
            "visibility": null,
            "align_self": null,
            "height": null,
            "min_height": null,
            "padding": null,
            "grid_auto_rows": null,
            "grid_gap": null,
            "max_width": null,
            "order": null,
            "_view_module_version": "1.2.0",
            "grid_template_areas": null,
            "object_position": null,
            "object_fit": null,
            "grid_auto_columns": null,
            "margin": null,
            "display": "flex",
            "left": null
          }
        },
        "b25e70e31013481fb544713c4ae7d77f": {
          "model_module": "@jupyter-widgets/controls",
          "model_name": "DescriptionStyleModel",
          "model_module_version": "1.5.0",
          "state": {
            "_view_name": "StyleView",
            "_model_name": "DescriptionStyleModel",
            "description_width": "initial",
            "_view_module": "@jupyter-widgets/base",
            "_model_module_version": "1.5.0",
            "_view_count": null,
            "_view_module_version": "1.2.0",
            "_model_module": "@jupyter-widgets/controls"
          }
        },
        "3d187637918940cebd93acc47e300787": {
          "model_module": "@jupyter-widgets/base",
          "model_name": "LayoutModel",
          "model_module_version": "1.2.0",
          "state": {
            "_view_name": "LayoutView",
            "grid_template_rows": null,
            "right": null,
            "justify_content": "center",
            "_view_module": "@jupyter-widgets/base",
            "overflow": null,
            "_model_module_version": "1.2.0",
            "_view_count": null,
            "flex_flow": null,
            "width": "200px",
            "min_width": null,
            "border": null,
            "align_items": null,
            "bottom": null,
            "_model_module": "@jupyter-widgets/base",
            "top": null,
            "grid_column": null,
            "overflow_y": null,
            "overflow_x": null,
            "grid_auto_flow": null,
            "grid_area": null,
            "grid_template_columns": null,
            "flex": null,
            "_model_name": "LayoutModel",
            "justify_items": null,
            "grid_row": null,
            "max_height": null,
            "align_content": null,
            "visibility": null,
            "align_self": null,
            "height": null,
            "min_height": null,
            "padding": null,
            "grid_auto_rows": null,
            "grid_gap": null,
            "max_width": null,
            "order": null,
            "_view_module_version": "1.2.0",
            "grid_template_areas": null,
            "object_position": null,
            "object_fit": null,
            "grid_auto_columns": null,
            "margin": null,
            "display": "flex",
            "left": null
          }
        },
        "43baeba6ec9b48a5a7099da66056d4d9": {
          "model_module": "@jupyter-widgets/base",
          "model_name": "LayoutModel",
          "model_module_version": "1.2.0",
          "state": {
            "_view_name": "LayoutView",
            "grid_template_rows": null,
            "right": null,
            "justify_content": "center",
            "_view_module": "@jupyter-widgets/base",
            "overflow": null,
            "_model_module_version": "1.2.0",
            "_view_count": null,
            "flex_flow": null,
            "width": null,
            "min_width": null,
            "border": null,
            "align_items": null,
            "bottom": null,
            "_model_module": "@jupyter-widgets/base",
            "top": null,
            "grid_column": null,
            "overflow_y": null,
            "overflow_x": null,
            "grid_auto_flow": null,
            "grid_area": null,
            "grid_template_columns": null,
            "flex": null,
            "_model_name": "LayoutModel",
            "justify_items": null,
            "grid_row": null,
            "max_height": null,
            "align_content": null,
            "visibility": null,
            "align_self": null,
            "height": null,
            "min_height": null,
            "padding": null,
            "grid_auto_rows": null,
            "grid_gap": null,
            "max_width": null,
            "order": null,
            "_view_module_version": "1.2.0",
            "grid_template_areas": null,
            "object_position": null,
            "object_fit": null,
            "grid_auto_columns": null,
            "margin": null,
            "display": "flex",
            "left": null
          }
        },
        "f123c9c9a085480bb76c0ee635100b9f": {
          "model_module": "@jupyter-widgets/controls",
          "model_name": "CheckboxModel",
          "model_module_version": "1.5.0",
          "state": {
            "_view_name": "CheckboxView",
            "style": "IPY_MODEL_94b1b548de3d4533a8f89a74d06f5308",
            "_dom_classes": [],
            "description": "Pulse",
            "_model_name": "CheckboxModel",
            "_view_module": "@jupyter-widgets/controls",
            "_model_module_version": "1.5.0",
            "value": true,
            "_view_count": null,
            "disabled": false,
            "_view_module_version": "1.5.0",
            "indent": true,
            "description_tooltip": null,
            "_model_module": "@jupyter-widgets/controls",
            "layout": "IPY_MODEL_04bab4d80d2541e78b575001d070dbb2"
          }
        },
        "64ff0921d3874e9ab5692250b400400b": {
          "model_module": "@jupyter-widgets/controls",
          "model_name": "CheckboxModel",
          "model_module_version": "1.5.0",
          "state": {
            "_view_name": "CheckboxView",
            "style": "IPY_MODEL_e51569c4a1b74f35a60cd0ba4e9dee94",
            "_dom_classes": [],
            "description": "Ramp",
            "_model_name": "CheckboxModel",
            "_view_module": "@jupyter-widgets/controls",
            "_model_module_version": "1.5.0",
            "value": true,
            "_view_count": null,
            "disabled": false,
            "_view_module_version": "1.5.0",
            "indent": true,
            "description_tooltip": null,
            "_model_module": "@jupyter-widgets/controls",
            "layout": "IPY_MODEL_4a5ff434ad984fe2ac4460051feb0f7a"
          }
        },
        "b4b8bec713f94d0b8071c7ab336927ff": {
          "model_module": "@jupyter-widgets/controls",
          "model_name": "CheckboxModel",
          "model_module_version": "1.5.0",
          "state": {
            "_view_name": "CheckboxView",
            "style": "IPY_MODEL_1144a68b082b49b7a174ead1fac247a6",
            "_dom_classes": [],
            "description": "Step",
            "_model_name": "CheckboxModel",
            "_view_module": "@jupyter-widgets/controls",
            "_model_module_version": "1.5.0",
            "value": true,
            "_view_count": null,
            "disabled": false,
            "_view_module_version": "1.5.0",
            "indent": true,
            "description_tooltip": null,
            "_model_module": "@jupyter-widgets/controls",
            "layout": "IPY_MODEL_9d70c4d408c044df97713d9c8c0b9f2d"
          }
        },
        "94b1b548de3d4533a8f89a74d06f5308": {
          "model_module": "@jupyter-widgets/controls",
          "model_name": "DescriptionStyleModel",
          "model_module_version": "1.5.0",
          "state": {
            "_view_name": "StyleView",
            "_model_name": "DescriptionStyleModel",
            "description_width": "",
            "_view_module": "@jupyter-widgets/base",
            "_model_module_version": "1.5.0",
            "_view_count": null,
            "_view_module_version": "1.2.0",
            "_model_module": "@jupyter-widgets/controls"
          }
        },
        "04bab4d80d2541e78b575001d070dbb2": {
          "model_module": "@jupyter-widgets/base",
          "model_name": "LayoutModel",
          "model_module_version": "1.2.0",
          "state": {
            "_view_name": "LayoutView",
            "grid_template_rows": null,
            "right": null,
            "justify_content": null,
            "_view_module": "@jupyter-widgets/base",
            "overflow": null,
            "_model_module_version": "1.2.0",
            "_view_count": null,
            "flex_flow": null,
            "width": null,
            "min_width": null,
            "border": null,
            "align_items": null,
            "bottom": null,
            "_model_module": "@jupyter-widgets/base",
            "top": null,
            "grid_column": null,
            "overflow_y": null,
            "overflow_x": null,
            "grid_auto_flow": null,
            "grid_area": null,
            "grid_template_columns": null,
            "flex": null,
            "_model_name": "LayoutModel",
            "justify_items": null,
            "grid_row": null,
            "max_height": null,
            "align_content": null,
            "visibility": null,
            "align_self": null,
            "height": null,
            "min_height": null,
            "padding": null,
            "grid_auto_rows": null,
            "grid_gap": null,
            "max_width": null,
            "order": null,
            "_view_module_version": "1.2.0",
            "grid_template_areas": null,
            "object_position": null,
            "object_fit": null,
            "grid_auto_columns": null,
            "margin": null,
            "display": null,
            "left": null
          }
        },
        "e51569c4a1b74f35a60cd0ba4e9dee94": {
          "model_module": "@jupyter-widgets/controls",
          "model_name": "DescriptionStyleModel",
          "model_module_version": "1.5.0",
          "state": {
            "_view_name": "StyleView",
            "_model_name": "DescriptionStyleModel",
            "description_width": "",
            "_view_module": "@jupyter-widgets/base",
            "_model_module_version": "1.5.0",
            "_view_count": null,
            "_view_module_version": "1.2.0",
            "_model_module": "@jupyter-widgets/controls"
          }
        },
        "4a5ff434ad984fe2ac4460051feb0f7a": {
          "model_module": "@jupyter-widgets/base",
          "model_name": "LayoutModel",
          "model_module_version": "1.2.0",
          "state": {
            "_view_name": "LayoutView",
            "grid_template_rows": null,
            "right": null,
            "justify_content": null,
            "_view_module": "@jupyter-widgets/base",
            "overflow": null,
            "_model_module_version": "1.2.0",
            "_view_count": null,
            "flex_flow": null,
            "width": null,
            "min_width": null,
            "border": null,
            "align_items": null,
            "bottom": null,
            "_model_module": "@jupyter-widgets/base",
            "top": null,
            "grid_column": null,
            "overflow_y": null,
            "overflow_x": null,
            "grid_auto_flow": null,
            "grid_area": null,
            "grid_template_columns": null,
            "flex": null,
            "_model_name": "LayoutModel",
            "justify_items": null,
            "grid_row": null,
            "max_height": null,
            "align_content": null,
            "visibility": null,
            "align_self": null,
            "height": null,
            "min_height": null,
            "padding": null,
            "grid_auto_rows": null,
            "grid_gap": null,
            "max_width": null,
            "order": null,
            "_view_module_version": "1.2.0",
            "grid_template_areas": null,
            "object_position": null,
            "object_fit": null,
            "grid_auto_columns": null,
            "margin": null,
            "display": null,
            "left": null
          }
        },
        "1144a68b082b49b7a174ead1fac247a6": {
          "model_module": "@jupyter-widgets/controls",
          "model_name": "DescriptionStyleModel",
          "model_module_version": "1.5.0",
          "state": {
            "_view_name": "StyleView",
            "_model_name": "DescriptionStyleModel",
            "description_width": "",
            "_view_module": "@jupyter-widgets/base",
            "_model_module_version": "1.5.0",
            "_view_count": null,
            "_view_module_version": "1.2.0",
            "_model_module": "@jupyter-widgets/controls"
          }
        },
        "9d70c4d408c044df97713d9c8c0b9f2d": {
          "model_module": "@jupyter-widgets/base",
          "model_name": "LayoutModel",
          "model_module_version": "1.2.0",
          "state": {
            "_view_name": "LayoutView",
            "grid_template_rows": null,
            "right": null,
            "justify_content": null,
            "_view_module": "@jupyter-widgets/base",
            "overflow": null,
            "_model_module_version": "1.2.0",
            "_view_count": null,
            "flex_flow": null,
            "width": null,
            "min_width": null,
            "border": null,
            "align_items": null,
            "bottom": null,
            "_model_module": "@jupyter-widgets/base",
            "top": null,
            "grid_column": null,
            "overflow_y": null,
            "overflow_x": null,
            "grid_auto_flow": null,
            "grid_area": null,
            "grid_template_columns": null,
            "flex": null,
            "_model_name": "LayoutModel",
            "justify_items": null,
            "grid_row": null,
            "max_height": null,
            "align_content": null,
            "visibility": null,
            "align_self": null,
            "height": null,
            "min_height": null,
            "padding": null,
            "grid_auto_rows": null,
            "grid_gap": null,
            "max_width": null,
            "order": null,
            "_view_module_version": "1.2.0",
            "grid_template_areas": null,
            "object_position": null,
            "object_fit": null,
            "grid_auto_columns": null,
            "margin": null,
            "display": null,
            "left": null
          }
        },
        "af46f077b9bf44b79f0b19b12d57b7e3": {
          "model_module": "@jupyter-widgets/controls",
          "model_name": "HBoxModel",
          "model_module_version": "1.5.0",
          "state": {
            "_view_name": "HBoxView",
            "_dom_classes": [],
            "_model_name": "HBoxModel",
            "_view_module": "@jupyter-widgets/controls",
            "_model_module_version": "1.5.0",
            "_view_count": null,
            "_view_module_version": "1.5.0",
            "box_style": "",
            "layout": "IPY_MODEL_25335fba87bd4e8b8d9ee7ca7c478c54",
            "_model_module": "@jupyter-widgets/controls",
            "children": [
              "IPY_MODEL_c1eb609000b94bb1a8acffff86b1eb70"
            ]
          }
        },
        "25335fba87bd4e8b8d9ee7ca7c478c54": {
          "model_module": "@jupyter-widgets/base",
          "model_name": "LayoutModel",
          "model_module_version": "1.2.0",
          "state": {
            "_view_name": "LayoutView",
            "grid_template_rows": null,
            "right": null,
            "justify_content": null,
            "_view_module": "@jupyter-widgets/base",
            "overflow": null,
            "_model_module_version": "1.2.0",
            "_view_count": null,
            "flex_flow": "column",
            "width": "100%",
            "min_width": null,
            "border": null,
            "align_items": "center",
            "bottom": null,
            "_model_module": "@jupyter-widgets/base",
            "top": null,
            "grid_column": null,
            "overflow_y": null,
            "overflow_x": null,
            "grid_auto_flow": null,
            "grid_area": null,
            "grid_template_columns": null,
            "flex": null,
            "_model_name": "LayoutModel",
            "justify_items": null,
            "grid_row": null,
            "max_height": null,
            "align_content": null,
            "visibility": null,
            "align_self": null,
            "height": null,
            "min_height": null,
            "padding": null,
            "grid_auto_rows": null,
            "grid_gap": null,
            "max_width": null,
            "order": null,
            "_view_module_version": "1.2.0",
            "grid_template_areas": null,
            "object_position": null,
            "object_fit": null,
            "grid_auto_columns": null,
            "margin": null,
            "display": "flex",
            "left": null
          }
        },
        "c1eb609000b94bb1a8acffff86b1eb70": {
          "model_module": "@jupyter-widgets/controls",
          "model_name": "ButtonModel",
          "model_module_version": "1.5.0",
          "state": {
            "_view_name": "ButtonView",
            "style": "IPY_MODEL_fccc0bcaac94405d955d7a6082e07002",
            "_dom_classes": [],
            "description": "Create anomalies",
            "_model_name": "ButtonModel",
            "button_style": "",
            "_view_module": "@jupyter-widgets/controls",
            "_model_module_version": "1.5.0",
            "tooltip": "",
            "_view_count": null,
            "disabled": false,
            "_view_module_version": "1.5.0",
            "layout": "IPY_MODEL_2d237a32ae11499d80f7b2f71ddbd28e",
            "_model_module": "@jupyter-widgets/controls",
            "icon": ""
          }
        },
        "fccc0bcaac94405d955d7a6082e07002": {
          "model_module": "@jupyter-widgets/controls",
          "model_name": "ButtonStyleModel",
          "model_module_version": "1.5.0",
          "state": {
            "_view_name": "StyleView",
            "_model_name": "ButtonStyleModel",
            "_view_module": "@jupyter-widgets/base",
            "_model_module_version": "1.5.0",
            "_view_count": null,
            "button_color": null,
            "font_weight": "",
            "_view_module_version": "1.2.0",
            "_model_module": "@jupyter-widgets/controls"
          }
        },
        "2d237a32ae11499d80f7b2f71ddbd28e": {
          "model_module": "@jupyter-widgets/base",
          "model_name": "LayoutModel",
          "model_module_version": "1.2.0",
          "state": {
            "_view_name": "LayoutView",
            "grid_template_rows": null,
            "right": null,
            "justify_content": null,
            "_view_module": "@jupyter-widgets/base",
            "overflow": null,
            "_model_module_version": "1.2.0",
            "_view_count": null,
            "flex_flow": null,
            "width": null,
            "min_width": null,
            "border": null,
            "align_items": null,
            "bottom": null,
            "_model_module": "@jupyter-widgets/base",
            "top": null,
            "grid_column": null,
            "overflow_y": null,
            "overflow_x": null,
            "grid_auto_flow": null,
            "grid_area": null,
            "grid_template_columns": null,
            "flex": null,
            "_model_name": "LayoutModel",
            "justify_items": null,
            "grid_row": null,
            "max_height": null,
            "align_content": null,
            "visibility": null,
            "align_self": null,
            "height": null,
            "min_height": null,
            "padding": null,
            "grid_auto_rows": null,
            "grid_gap": null,
            "max_width": null,
            "order": null,
            "_view_module_version": "1.2.0",
            "grid_template_areas": null,
            "object_position": null,
            "object_fit": null,
            "grid_auto_columns": null,
            "margin": null,
            "display": null,
            "left": null
          }
        }
      }
    }
  },
  "cells": [
    {
      "cell_type": "code",
      "metadata": {
        "id": "guH0aXYFGd9L"
      },
      "source": [
        "!pip install datashader"
      ],
      "execution_count": null,
      "outputs": []
    },
    {
      "cell_type": "markdown",
      "metadata": {
        "id": "rlptKrrrqRyO"
      },
      "source": [
        "# Monte Carlo Model\n"
      ]
    },
    {
      "cell_type": "code",
      "metadata": {
        "colab": {
          "base_uri": "https://localhost:8080/",
          "height": 207,
          "referenced_widgets": [
            "dbfe351a5f434380af7e312c2c9e84a4",
            "159c9097c44648e898f20880139edc4d",
            "84a8beaa665f4194b523f3ffe5d928b7",
            "643c38cedb94425290eff3962b50d604",
            "e63b015acabe4011b4f16ce8a1383728",
            "543ce81b817345e7a9a5471872d9ddea",
            "f5cf1efc816446a2ae3c5b574cb0c21d",
            "db437aae368346669235f208913de402",
            "870b9fd370bd4aeda5c190cd81d1037a",
            "351ebffbfc2c432aafa7e4c71580eb9a",
            "07ca8b611d65416f92399de867f0ebcd",
            "bb7c237dd1bd460d83ebabee49eae855",
            "7b95045c85b14161b20f0be1d241f076",
            "b25e70e31013481fb544713c4ae7d77f",
            "3d187637918940cebd93acc47e300787",
            "43baeba6ec9b48a5a7099da66056d4d9",
            "f123c9c9a085480bb76c0ee635100b9f",
            "64ff0921d3874e9ab5692250b400400b",
            "b4b8bec713f94d0b8071c7ab336927ff",
            "94b1b548de3d4533a8f89a74d06f5308",
            "04bab4d80d2541e78b575001d070dbb2",
            "e51569c4a1b74f35a60cd0ba4e9dee94",
            "4a5ff434ad984fe2ac4460051feb0f7a",
            "1144a68b082b49b7a174ead1fac247a6",
            "9d70c4d408c044df97713d9c8c0b9f2d",
            "af46f077b9bf44b79f0b19b12d57b7e3",
            "25335fba87bd4e8b8d9ee7ca7c478c54",
            "c1eb609000b94bb1a8acffff86b1eb70",
            "fccc0bcaac94405d955d7a6082e07002",
            "2d237a32ae11499d80f7b2f71ddbd28e"
          ]
        },
        "cellView": "form",
        "id": "vXxDS_LYnHQZ",
        "outputId": "303a0882-fbf9-4121-c031-fe02b39eeec2"
      },
      "source": [
        "#@title Generate anomalies\n",
        "import matplotlib.pyplot as plt\n",
        "import ipywidgets as widgets\n",
        "import functools\n",
        "import numpy as np\n",
        "import anomalyDetClass\n",
        "\n",
        "MONTECARLO = {\n",
        "    'types': [True,True,True], #pulse,ramp,step\n",
        "    'anomalies': np.array([]),\n",
        "    'nA': 10000\n",
        "}\n",
        "\n",
        "def _generate_anomalies(_, nA, beta, T, types):   \n",
        "  _nA = nA.value\n",
        "  _beta = beta.value\n",
        "  _T = T.value  \n",
        "  _types = [t.value for t in types]\n",
        "\n",
        "  #random generator: fixed state for reproducibility\n",
        "  rs = np.random.RandomState(seed=(1,2,3)) \n",
        "\n",
        "  anomalies = anomalyDetClass.generate_anomalies(_nA,_beta,_T,_types,rs)\n",
        "  MONTECARLO['anomalies'] = anomalies\n",
        "  MONTECARLO['types'] = _types\n",
        "  MONTECARLO['nA'] = int(_nA)\n",
        "\n",
        "style = {\n",
        "    'description_width': '30%',    \n",
        "}\n",
        "\n",
        "beta_slider = widgets.FloatRangeSlider(**{\n",
        "    'min': 0.005,\n",
        "    'max': 0.1,\n",
        "    'value': (0.005,0.01),\n",
        "    'step':0.001, \n",
        "    'readout_format':'.3f',       \n",
        "    'description':'Magnitude (pu)  ±',\n",
        "    'style': style,\n",
        "    'layout':widgets.Layout(width='50%')\n",
        "})\n",
        "\n",
        "tempo_slider = widgets.IntRangeSlider(**{\n",
        "    'min': 30,\n",
        "    'max': 120,    \n",
        "    'description':'Temporality (samples)',   \n",
        "    'style': style,\n",
        "    'value': (30,120),\n",
        "    'layout':widgets.Layout(width='50%') \n",
        "})\n",
        "\n",
        "pulse_checkbox = widgets.Checkbox(True,description='Pulse')\n",
        "ramp_checkbox = widgets.Checkbox(True,description='Ramp')\n",
        "step_checkbox = widgets.Checkbox(True,description='Step')\n",
        "\n",
        "anomalies_button = widgets.Button(description='Create anomalies')\n",
        "\n",
        "nA_widget = widgets.IntText(10000, description='Anomalies per class', style = {\n",
        "    'description_width':'initial'\n",
        "},\n",
        "layout=widgets.Layout(width='200px',display=\"flex\", justify_content=\"center\") )\n",
        "anomalies_box = widgets.VBox(children=[widgets.Label('Anomaly types',layout=widgets.Layout(display=\"flex\", justify_content=\"center\")), \n",
        "  nA_widget,\n",
        "  widgets.HBox(children=[pulse_checkbox,ramp_checkbox,step_checkbox],layout=widgets.Layout(display=\"flex\", justify_content=\"center\"))])\n",
        "\n",
        "anomalies_button.on_click(functools.partial(_generate_anomalies, nA=nA_widget,\n",
        "beta=beta_slider, T=tempo_slider, types=anomalies_box.children[2].children)) \n",
        "\n",
        "display(beta_slider,tempo_slider,anomalies_box,\n",
        "  widgets.HBox(children=[anomalies_button],\n",
        "  layout=widgets.Layout(display='flex', flex_flow='column', align_items='center', width='100%')))"
      ],
      "execution_count": 8,
      "outputs": [
        {
          "output_type": "display_data",
          "data": {
            "application/vnd.jupyter.widget-view+json": {
              "model_id": "dbfe351a5f434380af7e312c2c9e84a4",
              "version_minor": 0,
              "version_major": 2
            },
            "text/plain": [
              "FloatRangeSlider(value=(0.005, 0.01), description='Magnitude (pu)  ±', layout=Layout(width='50%'), max=0.1, mi…"
            ]
          },
          "metadata": {}
        },
        {
          "output_type": "display_data",
          "data": {
            "application/vnd.jupyter.widget-view+json": {
              "model_id": "643c38cedb94425290eff3962b50d604",
              "version_minor": 0,
              "version_major": 2
            },
            "text/plain": [
              "IntRangeSlider(value=(30, 120), description='Temporality (samples)', layout=Layout(width='50%'), max=120, min=…"
            ]
          },
          "metadata": {}
        },
        {
          "output_type": "display_data",
          "data": {
            "application/vnd.jupyter.widget-view+json": {
              "model_id": "f5cf1efc816446a2ae3c5b574cb0c21d",
              "version_minor": 0,
              "version_major": 2
            },
            "text/plain": [
              "VBox(children=(Label(value='Anomaly types', layout=Layout(display='flex', justify_content='center')), IntText(…"
            ]
          },
          "metadata": {}
        },
        {
          "output_type": "display_data",
          "data": {
            "application/vnd.jupyter.widget-view+json": {
              "model_id": "af46f077b9bf44b79f0b19b12d57b7e3",
              "version_minor": 0,
              "version_major": 2
            },
            "text/plain": [
              "HBox(children=(Button(description='Create anomalies', style=ButtonStyle()),), layout=Layout(align_items='cente…"
            ]
          },
          "metadata": {}
        }
      ]
    },
    {
      "cell_type": "code",
      "metadata": {
        "colab": {
          "base_uri": "https://localhost:8080/",
          "height": 327
        },
        "cellView": "form",
        "id": "hL6qNHM40ZKs",
        "outputId": "7716bae9-3cda-4283-9922-30f73cfcb866"
      },
      "source": [
        "#@title Preview first 1k anomalies\n",
        "nA = MONTECARLO['nA']\n",
        "anomalies = MONTECARLO['anomalies']\n",
        "titles = ['Pulse', 'Ramp', 'Step']\n",
        "titles = [titles[i] for i in range(3) if MONTECARLO['types'][i] ]\n",
        "plt.figure(figsize=(20,5))\n",
        "for i in range(len(titles)):      \n",
        "  plt.subplot(1, len(titles), i+1)\n",
        "  j = nA * i #offset\n",
        "  plt.title(titles[i])\n",
        "  plt.gca().spines[\"right\"].set_visible(False)\n",
        "  plt.gca().spines[\"top\"].set_visible(False)  \n",
        "  [plt.plot(anomaly) for anomaly in anomalies[j:j + np.min((nA,1000))]]   \n",
        "  plt.xlabel('Samples')\n",
        "  plt.ylabel('Magnitude (pu)')\n",
        "  plt.ylim((-beta_slider.value[-1],beta_slider.value[-1]))"
      ],
      "execution_count": 9,
      "outputs": [
        {
          "output_type": "display_data",
          "data": {
            "image/png": "[encoded data removed]",
            "text/plain": [
              "<Figure size 1440x360 with 3 Axes>"
            ]
          },
          "metadata": {
            "needs_background": "light"
          }
        }
      ]
    },
    {
      "cell_type": "code",
      "metadata": {
        "id": "9YOmH3Dc0ieM"
      },
      "source": [
        "import plotly.graph_objects as go\n",
        "\n",
        "nA = MONTECARLO['nA']\n",
        "anomalies = MONTECARLO['anomalies']\n",
        "wS = 60\n",
        "types = [i for i in range(3) if MONTECARLO['types'][i]]\n",
        "\n",
        "def generate_signal(anomalies, wS, nA, types):  \n",
        "  anomalies_len = np.sum( [anomaly.shape[0] for anomaly in anomalies] )\n",
        "  w_middle =  (anomalies.shape[0] + 1) * 2 * wS #avoid anomalies collision   \n",
        "  signal = np.ones(int(anomalies_len + w_middle))  \n",
        "  offset = np.zeros(1)\n",
        "  \n",
        "  def add_anomaly(anomaly, i, signal, type, offset):\n",
        "    alen = int(anomaly.shape[0])\n",
        "    i0 = int(offset[0] +  2 * wS)        \n",
        "    signal[i0:i0+alen] += anomaly\n",
        "    if type:\n",
        "      signal[i0+alen:] += anomaly[-1]\n",
        "    offset[0] = i0 + alen\n",
        "  [add_anomaly(anomalies[i],i,signal, types[int(i/nA)],offset) for i in range(MONTECARLO['anomalies'].shape[0])]    \n",
        "  return signal\n",
        "\n",
        "signal = generate_signal(anomalies, wS, nA, types)\n",
        "signal = anomalyDetClass.awgn(signal,60,rs=np.random)"
      ],
      "execution_count": 11,
      "outputs": []
    },
    {
      "cell_type": "code",
      "metadata": {
        "id": "Io4NNVKLGcZ_"
      },
      "source": [
        ""
      ],
      "execution_count": null,
      "outputs": []
    },
    {
      "cell_type": "code",
      "metadata": {
        "colab": {
          "base_uri": "https://localhost:8080/",
          "height": 316
        },
        "id": "h8KWVme9GJ3y",
        "outputId": "e3ca3996-35aa-417c-d011-b297d82202a4"
      },
      "source": [
        "import datashader as ds"
      ],
      "execution_count": 12,
      "outputs": [
        {
          "output_type": "error",
          "ename": "ModuleNotFoundError",
          "evalue": "ignored",
          "traceback": [
            "\u001b[0;31m---------------------------------------------------------------------------\u001b[0m",
            "\u001b[0;31mModuleNotFoundError\u001b[0m                       Traceback (most recent call last)",
            "\u001b[0;32m<ipython-input-12-236dc39df287>\u001b[0m in \u001b[0;36m<module>\u001b[0;34m()\u001b[0m\n\u001b[0;32m----> 1\u001b[0;31m \u001b[0;32mimport\u001b[0m \u001b[0mdatashader\u001b[0m \u001b[0;32mas\u001b[0m \u001b[0mds\u001b[0m\u001b[0;34m\u001b[0m\u001b[0;34m\u001b[0m\u001b[0m\n\u001b[0m",
            "\u001b[0;31mModuleNotFoundError\u001b[0m: No module named 'datashader'",
            "",
            "\u001b[0;31m---------------------------------------------------------------------------\u001b[0;32m\nNOTE: If your import is failing due to a missing package, you can\nmanually install dependencies using either !pip or !apt.\n\nTo view examples of installing some common dependencies, click the\n\"Open Examples\" button below.\n\u001b[0;31m---------------------------------------------------------------------------\u001b[0m\n"
          ],
          "errorDetails": {
            "actions": [
              {
                "action": "open_url",
                "actionText": "Open Examples",
                "url": "/notebooks/snippets/importing_libraries.ipynb"
              }
            ]
          }
        }
      ]
    },
    {
      "cell_type": "code",
      "metadata": {
        "colab": {
          "base_uri": "https://localhost:8080/"
        },
        "id": "eTXPApYT_TEC",
        "outputId": "c531e5c1-fc93-4d55-b451-a4cf90bade69"
      },
      "source": [
        "fig = go.Figure(layout_template=\"none\")\n",
        "\n",
        "x = np.arange(int(1000))\n",
        "y = signal[x]\n",
        "fig.add_scattergl(x=x, y=y, mode='lines')\n",
        "fig.update_layout(\n",
        "    xaxis_title=\"Samples\",\n",
        "    yaxis_title=\"Voltage (pu)\",\n",
        "    xaxis=dict(\n",
        "    autorange=True,\n",
        "    range=[0, 1000],\n",
        "    rangeslider=dict(\n",
        "        autorange=True,\n",
        "        range=[0, int(1000)]\n",
        "    ),\n",
        "    type=\"date\"\n",
        "    )\n",
        ")"
      ],
      "execution_count": 36,
      "outputs": [
        {
          "output_type": "display_data",
          "data": {
            "text/html": [
              "<html>\n",
              "<head><meta charset=\"utf-8\" /></head>\n",
              "<body>\n",
              "    <div>\n",
              "            <script src=\"https://cdnjs.cloudflare.com/ajax/libs/mathjax/2.7.5/MathJax.js?config=TeX-AMS-MML_SVG\"></script><script type=\"text/javascript\">if (window.MathJax) {MathJax.Hub.Config({SVG: {font: \"STIX-Web\"}});}</script>\n",
              "                <script type=\"text/javascript\">window.PlotlyConfig = {MathJaxConfig: 'local'};</script>\n",
              "        <script src=\"https://cdn.plot.ly/plotly-latest.min.js\"></script>    \n",
              "            <div id=\"87396bfe-1edb-4a6b-9cb7-810e1daf7d8f\" class=\"plotly-graph-div\" style=\"height:525px; width:100%;\"></div>\n",
              "            <script type=\"text/javascript\">\n",
              "                \n",
              "                    window.PLOTLYENV=window.PLOTLYENV || {};\n",
              "                    \n",
              "                if (document.getElementById(\"87396bfe-1edb-4a6b-9cb7-810e1daf7d8f\")) {\n",
              "                    Plotly.newPlot(\n",
              "                        '87396bfe-1edb-4a6b-9cb7-810e1daf7d8f',\n",
              "                        [{\"mode\": \"lines\", \"type\": \"scattergl\", \"x\": [0, 1, 2, 3, 4, 5, 6, 7, 8, 9, 10, 11, 12, 13, 14, 15, 16, 17, 18, 19, 20, 21, 22, 23, 24, 25, 26, 27, 28, 29, 30, 31, 32, 33, 34, 35, 36, 37, 38, 39, 40, 41, 42, 43, 44, 45, 46, 47, 48, 49, 50, 51, 52, 53, 54, 55, 56, 57, 58, 59, 60, 61, 62, 63, 64, 65, 66, 67, 68, 69, 70, 71, 72, 73, 74, 75, 76, 77, 78, 79, 80, 81, 82, 83, 84, 85, 86, 87, 88, 89, 90, 91, 92, 93, 94, 95, 96, 97, 98, 99, 100, 101, 102, 103, 104, 105, 106, 107, 108, 109, 110, 111, 112, 113, 114, 115, 116, 117, 118, 119, 120, 121, 122, 123, 124, 125, 126, 127, 128, 129, 130, 131, 132, 133, 134, 135, 136, 137, 138, 139, 140, 141, 142, 143, 144, 145, 146, 147, 148, 149, 150, 151, 152, 153, 154, 155, 156, 157, 158, 159, 160, 161, 162, 163, 164, 165, 166, 167, 168, 169, 170, 171, 172, 173, 174, 175, 176, 177, 178, 179, 180, 181, 182, 183, 184, 185, 186, 187, 188, 189, 190, 191, 192, 193, 194, 195, 196, 197, 198, 199, 200, 201, 202, 203, 204, 205, 206, 207, 208, 209, 210, 211, 212, 213, 214, 215, 216, 217, 218, 219, 220, 221, 222, 223, 224, 225, 226, 227, 228, 229, 230, 231, 232, 233, 234, 235, 236, 237, 238, 239, 240, 241, 242, 243, 244, 245, 246, 247, 248, 249, 250, 251, 252, 253, 254, 255, 256, 257, 258, 259, 260, 261, 262, 263, 264, 265, 266, 267, 268, 269, 270, 271, 272, 273, 274, 275, 276, 277, 278, 279, 280, 281, 282, 283, 284, 285, 286, 287, 288, 289, 290, 291, 292, 293, 294, 295, 296, 297, 298, 299, 300, 301, 302, 303, 304, 305, 306, 307, 308, 309, 310, 311, 312, 313, 314, 315, 316, 317, 318, 319, 320, 321, 322, 323, 324, 325, 326, 327, 328, 329, 330, 331, 332, 333, 334, 335, 336, 337, 338, 339, 340, 341, 342, 343, 344, 345, 346, 347, 348, 349, 350, 351, 352, 353, 354, 355, 356, 357, 358, 359, 360, 361, 362, 363, 364, 365, 366, 367, 368, 369, 370, 371, 372, 373, 374, 375, 376, 377, 378, 379, 380, 381, 382, 383, 384, 385, 386, 387, 388, 389, 390, 391, 392, 393, 394, 395, 396, 397, 398, 399, 400, 401, 402, 403, 404, 405, 406, 407, 408, 409, 410, 411, 412, 413, 414, 415, 416, 417, 418, 419, 420, 421, 422, 423, 424, 425, 426, 427, 428, 429, 430, 431, 432, 433, 434, 435, 436, 437, 438, 439, 440, 441, 442, 443, 444, 445, 446, 447, 448, 449, 450, 451, 452, 453, 454, 455, 456, 457, 458, 459, 460, 461, 462, 463, 464, 465, 466, 467, 468, 469, 470, 471, 472, 473, 474, 475, 476, 477, 478, 479, 480, 481, 482, 483, 484, 485, 486, 487, 488, 489, 490, 491, 492, 493, 494, 495, 496, 497, 498, 499, 500, 501, 502, 503, 504, 505, 506, 507, 508, 509, 510, 511, 512, 513, 514, 515, 516, 517, 518, 519, 520, 521, 522, 523, 524, 525, 526, 527, 528, 529, 530, 531, 532, 533, 534, 535, 536, 537, 538, 539, 540, 541, 542, 543, 544, 545, 546, 547, 548, 549, 550, 551, 552, 553, 554, 555, 556, 557, 558, 559, 560, 561, 562, 563, 564, 565, 566, 567, 568, 569, 570, 571, 572, 573, 574, 575, 576, 577, 578, 579, 580, 581, 582, 583, 584, 585, 586, 587, 588, 589, 590, 591, 592, 593, 594, 595, 596, 597, 598, 599, 600, 601, 602, 603, 604, 605, 606, 607, 608, 609, 610, 611, 612, 613, 614, 615, 616, 617, 618, 619, 620, 621, 622, 623, 624, 625, 626, 627, 628, 629, 630, 631, 632, 633, 634, 635, 636, 637, 638, 639, 640, 641, 642, 643, 644, 645, 646, 647, 648, 649, 650, 651, 652, 653, 654, 655, 656, 657, 658, 659, 660, 661, 662, 663, 664, 665, 666, 667, 668, 669, 670, 671, 672, 673, 674, 675, 676, 677, 678, 679, 680, 681, 682, 683, 684, 685, 686, 687, 688, 689, 690, 691, 692, 693, 694, 695, 696, 697, 698, 699, 700, 701, 702, 703, 704, 705, 706, 707, 708, 709, 710, 711, 712, 713, 714, 715, 716, 717, 718, 719, 720, 721, 722, 723, 724, 725, 726, 727, 728, 729, 730, 731, 732, 733, 734, 735, 736, 737, 738, 739, 740, 741, 742, 743, 744, 745, 746, 747, 748, 749, 750, 751, 752, 753, 754, 755, 756, 757, 758, 759, 760, 761, 762, 763, 764, 765, 766, 767, 768, 769, 770, 771, 772, 773, 774, 775, 776, 777, 778, 779, 780, 781, 782, 783, 784, 785, 786, 787, 788, 789, 790, 791, 792, 793, 794, 795, 796, 797, 798, 799, 800, 801, 802, 803, 804, 805, 806, 807, 808, 809, 810, 811, 812, 813, 814, 815, 816, 817, 818, 819, 820, 821, 822, 823, 824, 825, 826, 827, 828, 829, 830, 831, 832, 833, 834, 835, 836, 837, 838, 839, 840, 841, 842, 843, 844, 845, 846, 847, 848, 849, 850, 851, 852, 853, 854, 855, 856, 857, 858, 859, 860, 861, 862, 863, 864, 865, 866, 867, 868, 869, 870, 871, 872, 873, 874, 875, 876, 877, 878, 879, 880, 881, 882, 883, 884, 885, 886, 887, 888, 889, 890, 891, 892, 893, 894, 895, 896, 897, 898, 899, 900, 901, 902, 903, 904, 905, 906, 907, 908, 909, 910, 911, 912, 913, 914, 915, 916, 917, 918, 919, 920, 921, 922, 923, 924, 925, 926, 927, 928, 929, 930, 931, 932, 933, 934, 935, 936, 937, 938, 939, 940, 941, 942, 943, 944, 945, 946, 947, 948, 949, 950, 951, 952, 953, 954, 955, 956, 957, 958, 959, 960, 961, 962, 963, 964, 965, 966, 967, 968, 969, 970, 971, 972, 973, 974, 975, 976, 977, 978, 979, 980, 981, 982, 983, 984, 985, 986, 987, 988, 989, 990, 991, 992, 993, 994, 995, 996, 997, 998, 999], \"y\": [1.000379018559687, 1.000478314272851, 0.9999754063682263, 1.0000308299974858, 0.999447766382105, 0.9996863822875972, 0.9997863178111064, 1.00082856000974, 0.999549582957403, 1.0004917039778043, 1.0003782232954184, 0.9993847519862404, 0.9992863127231281, 1.001882605337914, 1.0002614326272452, 0.998815336417124, 0.9979122976496052, 0.9983338781570692, 0.9991581407141246, 1.0004315249690747, 0.9993369593238418, 1.0005715761620024, 0.9997586418431675, 0.999145628588263, 0.9998970740442025, 0.9996160932117732, 0.9996871974724599, 0.9992594332969261, 1.0006782705923731, 1.001506666490032, 0.9990528554657986, 1.0010980329612797, 0.9996583773520689, 0.9993828931211723, 0.9985689669670467, 1.000126171562277, 0.999673551031581, 1.0005513622144617, 1.0000593627494003, 1.0002253155751317, 1.002025029975236, 1.0013230040558276, 0.9982551990435307, 1.0005433185123598, 0.9990818355522264, 1.0002780611430826, 0.9998329014438341, 1.0002215637507652, 1.0014073981338305, 1.00022626064137, 1.0010578549534168, 1.0001021550136333, 0.9992046267479407, 1.0002955794286201, 1.0004771816354217, 1.0000200306830018, 1.0004930069422717, 0.9996348878873381, 0.9999400533149041, 1.0007380273572886, 0.9986192562240875, 0.9991037442180003, 0.9983986594752454, 0.9993462442980723, 0.9981655489387211, 0.9996235157077791, 1.001032994492967, 1.0017530083957522, 1.0003162010987103, 1.000503953591996, 1.0007949355689645, 0.998194874804803, 0.9998460765697306, 0.9992670914509608, 0.9998066807007332, 1.0022406265553474, 0.9989292951236882, 0.9991158120125793, 1.0020996954592216, 1.0002441169357945, 1.001736029527385, 1.000138535962429, 1.0006146956845867, 1.0000730171626706, 0.9991278195331122, 1.0000789229679237, 0.9989196023679807, 1.0014575907766436, 0.9999851115996351, 0.9997137058875739, 0.998273829046615, 0.9992347191689391, 1.0003747186625034, 1.0006971753547762, 1.000613957356666, 1.0005124374226524, 0.9997976843167317, 1.00053293062712, 0.9998453739684747, 1.0014880069059737, 0.9989546970302144, 0.99865109053054, 1.000683137579556, 1.0008363533560047, 0.998809910046169, 1.0010067484927598, 1.0021164469248085, 1.0018250540617013, 1.0003407660818695, 0.9994600294299953, 0.9995595429180453, 0.9998009879412613, 0.99983227113592, 1.0014345863399832, 0.9998000169905336, 0.9984172594904781, 0.9991571728007885, 1.000488959905071, 1.0016675165488098, 1.0020144299453193, 1.0000280027517496, 0.9986379566153223, 1.002308832481617, 0.9999635114310664, 0.9989103310574858, 0.9984315873904274, 0.9999108912349969, 1.0003208617373638, 1.0000488697591563, 1.0006359407859124, 0.9978646138884423, 0.9988395824973965, 1.0005702442618287, 1.0008334595837367, 0.9998030102160089, 1.0012046387034756, 1.0004667703055627, 0.9995452683238376, 1.000075746837551, 1.0006525825289656, 0.9990762016852117, 1.0004220666235561, 0.9996234728894591, 1.0002144186940876, 0.9990502444413524, 0.9996934452090018, 0.9992356545222246, 0.999100378618674, 0.9987044011968232, 0.9998602445505328, 0.9976726955296448, 1.0006114415528078, 0.9996113409556159, 0.9996536936591081, 0.9993747400154743, 0.9985009972365948, 1.0002277120993393, 0.9997804071587435, 1.0011146739443115, 1.0004575218651048, 1.0000678634755409, 0.9996402121610833, 1.00082599159466, 0.9999794829696949, 0.9981383565721156, 1.0007007319624321, 0.9918188944433016, 0.9920743474185035, 0.9908243347634612, 0.9922154418801762, 0.991318526499122, 0.9928731840863417, 0.9936952079116629, 0.9929511628118114, 0.9914692265493156, 0.9911357979115076, 0.9912083751080997, 0.9915230656306954, 0.9931237109632216, 0.9922144734643924, 0.9940565894634984, 0.9911436996359689, 0.9918120256684169, 0.9927365193388343, 0.990612741132626, 0.9912147476631331, 0.9922160642747367, 0.9936538280940463, 0.9924651988557665, 0.9909939559976277, 0.9914279293858056, 0.9922970789965708, 0.9919360237387531, 0.9915585814969115, 0.9916263412389686, 0.9925814470812604, 0.9914749101684454, 0.9909533003730501, 0.993303861758838, 0.9914957963028271, 0.993145938033325, 0.9927894578662522, 0.9905578829799312, 0.991736149037986, 0.9916489973591242, 0.9928167301467874, 0.9918344763363788, 0.9917178042743207, 0.9905560655041195, 0.9915054591086261, 0.99150714057598, 0.9909522124474998, 0.9913469970829809, 0.9925727801178422, 0.9927531567040431, 0.9909443344488003, 0.9925286295758117, 0.9926796369438716, 0.9909664234819124, 0.9927582524116819, 0.9923858928893857, 0.993128092079958, 0.9901608687468708, 0.9926978642417964, 0.993346939946856, 0.9922349139042698, 0.9924149339214654, 0.9929065113881661, 0.9934004895984789, 0.9919568921606552, 0.9915906798802443, 0.9906868703673033, 0.9933328237245342, 0.99167607043318, 0.9901296499003261, 0.9911214780728353, 0.9933975772696261, 0.992611899062714, 0.9909960593830482, 0.9933443159878361, 0.9921834604279303, 0.9914260804141721, 0.9934290364032521, 0.9929203596334846, 0.9918367048579115, 0.9926731314671549, 0.9896403559675989, 0.9902456128565411, 0.9922601153998718, 0.9916526794804454, 0.9913711512686771, 0.9914436960253076, 0.992568675097219, 0.9924637366213078, 0.9930712090126234, 0.9910526149464318, 0.9914966080652099, 0.9906186786033582, 1.0008958382360538, 0.9989755196164022, 0.9995228016225824, 0.9985267119519543, 1.000038733476986, 0.999882531506876, 1.0000767167013775, 1.0017935171291217, 1.000712258363977, 1.0000193601560028, 0.9988420849229566, 0.9979206161577482, 0.9988288147025446, 0.9991324892178777, 0.999047594175517, 0.9990178538976041, 1.0008506566948119, 1.0006403207445285, 1.0011476760208071, 1.0002281150010386, 1.0002051514893295, 0.998105953832492, 0.9999426412352742, 0.999723787099609, 0.9999456799527072, 0.9977659494986783, 0.9998924365411113, 1.0016036144603997, 1.001303966186423, 1.0006928758655589, 1.002483636011734, 1.0004638939585346, 1.0001838762814657, 1.002103515838245, 0.9990982701551477, 1.0000356490644058, 0.9996460062509817, 0.9993414839914084, 0.9987355316901568, 1.000744903937431, 1.0009099877013634, 1.001376306752438, 0.9993112038495582, 1.0004720345323224, 0.9992034025966917, 0.9991510498554879, 0.9999528764381109, 0.9991005173375029, 1.0004580371378735, 1.0006309221736958, 1.0007699853137482, 1.0003910768397766, 0.9978584382829607, 0.9975389416959443, 0.9988427552485721, 1.0001717574325026, 0.9997343089823402, 0.9989286826032691, 1.0008757104720511, 0.9969325847492782, 0.9991352419455563, 1.0029440785575339, 0.9994466762720514, 1.001664093331228, 1.0008455235909492, 0.9994967398658573, 0.9997514252341986, 0.999489226407656, 1.000384042917441, 0.9996348179495343, 0.9988425232823189, 1.0013404959809866, 0.9995109742569467, 0.9993465160337697, 1.000706645743652, 0.9994994846401727, 1.0001462292516212, 0.9992801235854444, 1.001848925684477, 0.9999507720324273, 0.9995025890087608, 0.999119598739338, 0.9990824247481163, 0.9996005090847204, 1.0003862351825468, 1.0007055931786877, 0.9995616333299928, 1.0007902738664651, 1.00065737526219, 0.999772956190725, 0.999650178774587, 1.0005806801559916, 0.9977900806505844, 1.0009696427861865, 1.0005352553638986, 0.9998280020316003, 0.997989153529488, 1.0008438133831397, 1.000374428822906, 0.999187445764214, 0.9992616151415298, 0.9993180317402015, 0.999806485535374, 1.000048105921166, 0.9985519906593222, 0.9985602582913174, 0.998738811656508, 0.999699363328616, 1.0011227210769604, 0.9998096812654619, 0.9996455794123875, 0.9997983858534011, 1.0011655282603598, 1.0013053941229293, 0.9988608843115833, 1.0009496725998672, 0.9999825958684468, 1.0014927752350267, 1.0001903670503949, 0.9997953646909016, 1.0011981376949683, 0.9985309030736242, 0.9994860770795623, 1.0001852518717036, 0.9991654527520671, 0.9993181270649608, 1.0002932724354627, 0.9981449349641196, 1.001119590177228, 1.00052351532619, 0.9991642746641192, 0.9987593317797517, 1.0001176677283405, 0.9998889179483973, 1.0004623809741438, 1.0001619123891339, 0.9995438881308503, 1.000532755857517, 1.002152071538334, 0.9985705678148338, 1.0006840219382578, 1.000941456981388, 1.001116872974579, 1.0012525474221525, 1.000226144343479, 0.9997895259117525, 0.9986220613294405, 0.9991154358459708, 1.0018809909663706, 0.9976976833465567, 0.9987798206462137, 0.998178716852925, 1.0004371935699343, 1.0012705968800226, 0.9998346856955811, 0.9993851458374009, 1.0005107333343166, 0.9981120263940937, 0.9995317986144996, 1.0002610482975562, 0.9996392701523547, 1.0005248186177136, 0.9989523804614662, 1.0007314413095247, 1.000552505412431, 1.000983459008619, 0.999257418218454, 1.0002973993156492, 1.0003063295385488, 0.999930125270494, 1.0008414980821525, 0.9990777069669503, 1.0011326770193174, 1.000299715916195, 1.00008140843148, 1.0000509808188272, 0.9983172346945522, 1.0016554095157217, 0.9999113886882938, 0.9989583798485252, 0.9993121693532391, 0.9997030141635904, 0.9996732979019494, 1.007984658647026, 1.0078835090712435, 1.0081765993490313, 1.0101918011677615, 1.0095359541747915, 1.0074317925869172, 1.0081894648853535, 1.00881544273702, 1.0073935108818104, 1.0059883690495626, 1.006973636955812, 1.0064501549932685, 1.0070263966462036, 1.0087109362700095, 1.006331242305802, 1.0086984852676928, 1.0087346316306227, 1.007343959477146, 1.0078617082080261, 1.0096622889796554, 1.00818843486452, 1.0076792754921513, 1.0071836801211238, 1.0072782119461174, 1.007537140171713, 1.007148301733662, 1.008397129050618, 1.0100727949914459, 1.0084015270632558, 1.0075827179755188, 1.0077877010968457, 1.0096020672517012, 1.0068760942882689, 1.0074555938248617, 0.9999821382460662, 1.000991006136986, 0.9995370717754468, 0.9998172382111831, 1.0007039137454097, 0.9995191941320605, 0.9991233107383186, 1.0008052370537692, 1.0022083429990654, 1.0006416153854316, 0.9999838685697104, 1.000423500545225, 1.0009311069155722, 0.9994838847458853, 0.9998801258440884, 1.0000589218055602, 1.0000486900141283, 1.0012012191083854, 0.9989812884282605, 0.9992856042185704, 0.9994468977459231, 1.0012674681969447, 0.9986969529363977, 0.9995808811886798, 1.0004494226841798, 1.0009411480896204, 0.998994452308181, 1.0006829392606238, 1.000051128961094, 0.9992941092293163, 1.001357100582167, 1.0008944952240257, 0.9994583241316671, 1.0001088292787235, 0.9994075194866597, 0.9991175270374747, 1.0001170104751214, 1.0006070608755928, 1.0016130113804336, 0.9998601691127799, 0.9996044929494289, 0.9992251799186124, 0.9996935828827315, 0.9992884175005002, 0.99959761187326, 1.0008411906400496, 1.0005685090673506, 0.9991921865016771, 0.9993884700247538, 1.0008229983933288, 0.9985455775037342, 0.9999211105137796, 1.0007450672130644, 1.0008207813109355, 0.999917455102865, 0.9991829801546855, 0.9993543211553008, 0.9989226766419191, 1.001354211197105, 1.0010154949263417, 1.0001540831508167, 0.9985109046349747, 0.999111306507314, 0.9993748363595304, 1.0011177241906732, 0.9996604387944802, 1.0006493137659933, 0.9989459436678996, 1.0000068071231305, 1.0004425208744654, 1.000631920594571, 1.0014372084656766, 0.9991705353319071, 1.0004392198336967, 0.9995171888375111, 1.0016932824717297, 1.0008755332982284, 0.9998605102453054, 0.9993052083682652, 1.0020027245236938, 0.9996951037497479, 0.9989513290237196, 1.0012609437550932, 0.9972283608871848, 1.0006949676123933, 1.001135010626813, 1.000059536472081, 1.0007481051493556, 0.99916506832822, 1.0004733693050816, 1.000115490681147, 0.9993469159649029, 1.0011673421703107, 1.0002853439336497, 1.0020353268687532, 0.998911666318382, 1.0002328132385176, 0.9988917496472559, 0.9993655116699499, 0.99981020954867, 1.0002084798753657, 0.9990089300749094, 1.0006266641154513, 1.000242612779589, 0.999208149901946, 0.9990113843538521, 1.0005958928146792, 1.001451963474715, 0.9995285167473369, 1.0008429210128906, 0.999493027551708, 1.0015821080733947, 1.0009975443240635, 1.0003043505385691, 0.9999772046833227, 1.000602817234617, 0.9995246331487339, 1.000121775088256, 0.998341321790204, 1.000348262711599, 0.9991934879388115, 1.0001698013101363, 1.0000667982058813, 1.0000306174332545, 0.9997564126266985, 1.001990020749263, 1.001075273091821, 1.0009952178909076, 0.9986324292665385, 0.9997381264391197, 0.9996449974247053, 1.0003322311410225, 1.0018897706999979, 1.0015487069268287, 0.9982336852823015, 0.9994297400424292, 0.9999405323187962, 0.9996399692898938, 0.9992740286025878, 0.9991447371668918, 0.9997547708239792, 1.0011522480289974, 0.9996672151882738, 0.998607629834093, 0.9997040195525491, 1.000156435328269, 0.9996738323685257, 0.9993303869313502, 0.9985612951677819, 1.0003713471756073, 0.9984998260740168, 1.0012624086157202, 0.9992068865472951, 1.000548592452777, 0.9993375138277164, 0.9997435707106607, 1.00087677184781, 1.001077512751487, 0.9982223655645538, 0.9988387121637664, 1.0009393586379394, 0.9981293376432545, 0.988158120597055, 0.9896645398439944, 0.992078830068796, 0.9891079122051684, 0.9900409042423131, 0.992843069619552, 0.9901583686914152, 0.9899115474342423, 0.9903229439802924, 0.9915622731768526, 0.9900416017921774, 0.9896314910325275, 0.9903873535180772, 0.9891953440498135, 0.9914906552024383, 0.9893827498008425, 0.9914892260301672, 0.9913454645523858, 0.9916853901236432, 0.9915196786296325, 0.9895449842909938, 0.9902297532822973, 0.9906396195527225, 0.9896345897210329, 0.9912612739941058, 0.9900428884404822, 0.9903146255764099, 0.9910729276375603, 0.9909847929184327, 0.9905552722776146, 0.9905922834606745, 0.9910717193081109, 0.9911094395721283, 0.9911115228735833, 0.9896686750919013, 0.9902915473267363, 0.9909944049375077, 0.9901358565949154, 0.9905157519665357, 0.9891099367323949, 0.9892936926370041, 0.9907508477831667, 0.9914743934866505, 0.9922242955556805, 0.9890300002715169, 0.9912397600171106, 0.9898531120822177, 0.9908377257224078, 0.9899310397945407, 0.9889493006055724, 0.9988664220696956, 0.999584874678387, 0.9989564098334305, 1.0018802946961802, 1.0005201643473036, 0.9998851985074291, 1.0006238954458764, 0.9991332874784628, 0.9996793933076311, 1.0007929118099994, 1.0005175359058178, 0.9985672083616263, 1.0004277894675575, 1.0023604633204273, 0.9994970978656825, 0.9994383236498087, 1.002475263528621, 1.0000284976827212, 1.0008394658650095, 1.0000970998303798, 1.0010948540253344, 1.0000992141012468, 0.9997828650118148, 1.0004339425367905, 0.9975851274565835, 0.999511214509806, 0.9988796759506579, 0.9990052132928614, 0.99946820333742, 1.001342922573669, 1.001609614856819, 0.9986290476742983, 1.0007415373314497, 1.0031911100542452, 0.9991068461197725, 0.9999103553963811, 0.9999426206104264, 1.0018734233161697, 0.9996276914442702, 0.9999956494168835, 0.999474114383558, 0.9998533966846858, 1.0022623048635884, 1.0003946708125697, 0.9993935856970511, 1.000355302588494, 1.0013727937758707, 1.0015419158753365, 0.9990781077669568, 1.0002053064382859, 1.000173621207302, 0.9975706746518614, 1.0015648515989433, 1.0003762268816403, 1.0015233867572073, 0.9990216209846385, 1.0008968609466347, 0.999880656831046, 0.9999870192529464, 1.000587617959443, 0.9990043728249876, 0.9991991241124935, 0.9990035703482548, 1.001024270330825, 1.000344171842104, 0.9990946896218529, 1.0009338049990348, 1.0002870748158, 1.0008292440546729, 1.0010493507973626, 1.0000289019983402, 1.0007269311940874, 1.0000469007386212, 1.0018552343669191, 1.0003104425411582, 0.9992735266894643, 0.9996058054846129, 0.9995326406825809, 0.9989246729528934, 1.0005284034302189, 0.9994937606588464, 0.9999199319578992, 0.9991039421139412, 0.9999392854737651, 0.9998205458171269, 1.0008028045198645, 0.9999970217576918, 1.0001130587627112, 0.9995185076587186, 1.0011377068085048, 0.9998281501964855, 0.9988421724567732, 1.0015455610536113, 1.0003359073380929, 0.9995842177946836, 0.999449241994973, 0.9988435842027124, 1.000504980485325, 1.0002970659591885, 0.9996782588571566, 0.9994278722459528, 0.9991135953895015, 1.0012236666121797, 1.0007036167228107, 1.0001894875830624, 0.9999523011834722, 1.0017035842420023, 1.0006848701484292, 1.0001188105137815, 1.0010190910502281, 0.9994784558046883, 0.9998269571846526, 1.0000976544576317, 0.999970337375472, 1.0006888955751088, 1.0009548064070586, 1.00067275377703, 1.0006008709823495, 1.000778317758992, 1.0000548829574563, 1.0007230040613175, 1.0009936188858402, 0.9990256540008093, 0.9991270053820308, 1.0010385000405388, 0.9995566427897977, 0.9985665660805955, 0.9998056740945295, 0.9996859718618133, 0.9997306404960714, 1.0001612955113317, 1.0012279663200288, 0.9999235672648975, 1.000612587060751, 1.0005231662866299, 0.9998691295186123, 1.0011086238072193, 1.0012934826539557, 0.9997590083601614, 1.001736668531623, 1.0000874541621958, 0.999060419590394, 0.9995877505963269, 0.9998931404243893, 0.999911180640371, 1.0011522015954302, 1.0012158778712004, 0.9999513462547578, 0.9990280340148036, 0.9997127140020746, 1.0000151028707858, 0.9991120208210784, 1.0009718569974768, 1.000665029959313, 0.9999050866820614, 0.9999057665467443, 1.0006134553777377, 0.9989309226133599, 0.9993528240996916, 1.0024030556565284, 1.0002905203554313, 0.9987433200166818, 0.9999840944578089, 1.0002639047471837, 1.0000108156021814, 0.9994002848205328, 0.9994839551800727, 1.000169496697124, 0.9998600567197734, 0.9997735890411891, 0.9995338535076476, 1.0020226057463817, 1.0004670338859432, 1.001075356431758, 0.999921521746957, 1.0014815654097158, 0.9987501055729481, 0.9995436995484321, 0.9999702982142974, 1.0010546845726669, 1.0004514387054235, 1.000762662006368, 0.9992285047826875, 0.9980853314095206, 0.9991285869752798, 0.999931427617007, 1.0004101057669252, 1.0002969938706499, 0.9996617520820985, 1.0002066664992413, 1.0015093487688485, 0.9999727354779612, 1.0005297604389458, 1.0002099761388286, 0.998379736997657, 1.0002441026158342, 0.9994891372752472, 1.0011779001119274, 0.9999417646083046, 1.0012155478800255, 0.9990836419805912, 1.0106267992852087, 1.0103089612287748, 1.0085237407130192, 1.0107048919773496, 1.008918162965026, 1.011018929423301, 1.0107085036812113, 1.0091248030851143, 1.009135558162713, 1.0101103831012468, 1.0096770807711126, 1.0084137471276342, 1.0094408990187076, 1.0104757364961139, 1.0098487198522201, 1.0094221075274596, 1.0096268739512386, 1.0095640814522617, 1.0097805365869361, 1.00963159584697, 1.0113880386740766, 1.0098308588798632, 1.0091394775359719, 1.0086088927874355, 1.010177845980472, 1.009165761890841, 1.0086572361447406, 1.0081868324638945, 1.0108001906135622, 1.0093497170732064, 1.0088847018160005, 1.0084705029590924, 1.0101148612033763, 1.0099984967092306, 1.0105125116390912, 1.0103123865767925, 1.0088632555698946, 1.0085091179889074, 1.0089812234308548, 1.0106625587583706, 1.0102974138639969, 1.010178902656329, 1.010200253266325, 1.0094515942049422, 1.0089821408583537, 1.0080915534413923, 1.0099268972822706, 1.0089429417813325, 1.0087663026819285, 1.0105524740157512, 1.009948951521446, 1.011620072493822, 1.0101040091752176, 1.0087494774183583, 1.0095534193014488, 1.0085266151487848, 1.0074881073833546, 1.009567415957589, 1.0096901396533793, 1.0113621739792251, 1.0112053390251685, 1.0097915202613421, 1.0088568659956947, 1.0085658511361264, 1.0105443334591864, 1.0078164527550924, 1.0083949268929815, 1.0083927148099716, 1.009375411207562, 1.0086742003759062, 1.0091200454793714, 1.0101930121324991, 1.0105879034532754, 1.0084104954983943, 1.010021783564626, 1.009949015086746, 1.0086722302693114, 1.0089178379731185, 1.0093208584275248, 1.0082963404667074, 1.008702723698294, 1.0083101169922968, 1.01043994595351, 1.0094479022582972, 1.0090810940545347, 1.0094133961662564, 1.007086085752296, 1.0083918983449864, 1.0086501270085988, 1.0098165701717634, 1.007900633666977, 1.0092504007362042, 1.0091865162291553, 1.0085430115495655, 1.0098476656637065, 1.0104314082386, 1.0104150453429903, 1.0097597206517455, 1.0093739289749435, 1.0102099280445829, 1.0102608061810918, 1.0119262620426406, 1.0092246790607442, 1.0087565377559622, 1.0108221287318782, 1.0097299661839942, 1.0099408707013853, 1.0104329615410093, 1.0097641338535825, 1.0103754138345546, 1.0109442391031895, 1.0075321283587277]}],\n",
              "                        {\"template\": {\"data\": {\"scatter\": [{\"type\": \"scatter\"}]}}, \"xaxis\": {\"autorange\": true, \"range\": [0, 1000], \"rangeslider\": {\"autorange\": true, \"range\": [0, 1000]}, \"title\": {\"text\": \"Samples\"}, \"type\": \"date\"}, \"yaxis\": {\"title\": {\"text\": \"Voltage (pu)\"}}},\n",
              "                        {\"responsive\": true}\n",
              "                    ).then(function(){\n",
              "                            \n",
              "var gd = document.getElementById('87396bfe-1edb-4a6b-9cb7-810e1daf7d8f');\n",
              "var x = new MutationObserver(function (mutations, observer) {{\n",
              "        var display = window.getComputedStyle(gd).display;\n",
              "        if (!display || display === 'none') {{\n",
              "            console.log([gd, 'removed!']);\n",
              "            Plotly.purge(gd);\n",
              "            observer.disconnect();\n",
              "        }}\n",
              "}});\n",
              "\n",
              "// Listen for the removal of the full notebook cells\n",
              "var notebookContainer = gd.closest('#notebook-container');\n",
              "if (notebookContainer) {{\n",
              "    x.observe(notebookContainer, {childList: true});\n",
              "}}\n",
              "\n",
              "// Listen for the clearing of the current output cell\n",
              "var outputEl = gd.closest('.output');\n",
              "if (outputEl) {{\n",
              "    x.observe(outputEl, {childList: true});\n",
              "}}\n",
              "\n",
              "                        })\n",
              "                };\n",
              "                \n",
              "            </script>\n",
              "        </div>\n",
              "</body>\n",
              "</html>"
            ]
          },
          "metadata": {}
        }
      ]
    },
    {
      "cell_type": "code",
      "metadata": {
        "colab": {
          "base_uri": "https://localhost:8080/",
          "height": 339
        },
        "id": "kltHbe977OR7",
        "outputId": "35d35055-ae4f-4497-a9c6-52d0d2f05538"
      },
      "source": [
        "plt.figure(figsize=(20,5))\n",
        "plt.plot(signal)"
      ],
      "execution_count": 20,
      "outputs": [
        {
          "output_type": "execute_result",
          "data": {
            "text/plain": [
              "[<matplotlib.lines.Line2D at 0x7fac853633d0>]"
            ]
          },
          "metadata": {},
          "execution_count": 20
        },
        {
          "output_type": "display_data",
          "data": {
            "image/png": "[encoded data removed]",
            "text/plain": [
              "<Figure size 1440x360 with 1 Axes>"
            ]
          },
          "metadata": {
            "needs_background": "light"
          }
        }
      ]
    }
  ]
}