{
  "nbformat": 4,
  "nbformat_minor": 0,
  "metadata": {
    "colab": {
      "name": "Example_detector_classifier.ipynb",
      "provenance": [],
      "collapsed_sections": []
    },
    "kernelspec": {
      "name": "python3",
      "display_name": "Python 3"
    },
    "language_info": {
      "name": "python"
    }
  },
  "cells": [
    {
      "cell_type": "code",
      "source": [
        "#@title Load requirements\n",
        "!git clone https://github.com/NetoIE/ML_PMU_Library --quiet\n",
        "%cd /content/ML_PMU_Library\n",
        "\n",
        "import matplotlib.pyplot as plt\n",
        "import ipywidgets as widgets\n",
        "import functools\n",
        "import itertools\n",
        "import pandas as pd\n",
        "import numpy as np\n",
        "import anomalyDetClass\n",
        "from sklearn.svm import LinearSVC\n",
        "from sklearn.metrics import confusion_matrix\n"
      ],
      "metadata": {
        "colab": {
          "base_uri": "https://localhost:8080/"
        },
        "cellView": "form",
        "id": "CJLLzGLE5gbE",
        "outputId": "29b56acd-41a6-4d9c-b638-c5f03614123c"
      },
      "execution_count": 1,
      "outputs": [
        {
          "output_type": "stream",
          "name": "stdout",
          "text": [
            "/content/ML_PMU_Library\n"
          ]
        }
      ]
    },
    {
      "cell_type": "markdown",
      "source": [
        "# Monte Carlo model"
      ],
      "metadata": {
        "id": "aLg6rbGG-sYS"
      }
    },
    {
      "cell_type": "code",
      "execution_count": 2,
      "metadata": {
        "id": "RMQJP-C_4fUP"
      },
      "outputs": [],
      "source": [
        "#----------Montecarlo Model---------\n",
        "nA = 10000 #anomalies per class\n",
        "beta = (0.005, 0.01) #magnitude range\n",
        "T = (30,120) #temporality range\n",
        "types = [0, 1, 2] #pulse, ramp, step\n",
        "rs = np.random.RandomState(seed=(1,2,3)) #random generator\n",
        "anomalies = anomalyDetClass.generate_anomalies(nA,beta,T,[True,True,True],rs)\n",
        "\n",
        "#----------Create signal with anomalies and noise---------\n",
        "wS = 60 #windows size\n",
        "SNR = 60 #Signal to noise ration in dB\n",
        "rs = np.random.RandomState(seed=(1,2,3)) #random generator\n",
        "signal = anomalyDetClass.generate_signal(anomalies, nA, types, wS, SNR, rs)"
      ]
    },
    {
      "cell_type": "markdown",
      "source": [
        "# Training stage"
      ],
      "metadata": {
        "id": "TtozqsSj_5j1"
      }
    },
    {
      "cell_type": "code",
      "source": [
        "#-------Prepare data for detector and classifier models\n",
        "rs = np.random.RandomState(seed=(1,2,3))  #random generator\n",
        "#noisy windows of same length than total anomalies for test purposes\n",
        "signal_inliers = anomalyDetClass.awgn(np.ones(anomalies.shape[0] * wS),SNR,rs)\n",
        "\n",
        "_tags_array = np.repeat([1,0], 2 * len(types) * nA) #detector flags \n",
        "tags_array = np.repeat(types,nA) # classifier tags (pulse/ramp/step)\n",
        "\n",
        "shuffled_indices = np.arange(len(types)*nA).reshape(-1,nA)\n",
        "for i in range(len(types)):\n",
        "  rs.shuffle(shuffled_indices[i,:])  \n",
        "\n",
        "#split train/test data in a 80/20 rate\n",
        "idx = int(0.8 * nA)\n",
        "train_idx = shuffled_indices[:,:idx].flatten()\n",
        "test_idx = shuffled_indices[:,idx:].flatten()\n",
        "\n",
        "#Outliers complete windows indices\n",
        "a_len = np.array([anomaly.shape[0] for anomaly in anomalies]) #anomaly length\n",
        "nd = np.cumsum(a_len + 2 * wS) #anomaly end index position at signal\n",
        "st = nd - a_len #anomaly start index position at signal\n",
        "\n",
        "#Noisy windows indices\n",
        "sst = np.array([wS * i for i in range(anomalies.shape[0])]) #noisy window start index position at signal_inliers\n",
        "nnd = sst + wS #noisy window end index position at signal_inliers\n",
        "\n",
        "\n",
        "#--------- detector parameters' calibration -----\n",
        "\n",
        "m = 3 #embedded dimension for phase space reconstruction\n",
        "tau = 1 #time delay for phase space reconstruction\n",
        "Nphsp = wS - (m - 1) * tau  #number of vectors from phase space\n",
        "k = int(0.3*Nphsp) #k value for k-distance\n",
        "E_th = Nphsp ** 2 * (Nphsp - 1) #complete graph laplacian energy (detector threshold)\n",
        "eps = 0.8 * 0.005 #detector k-dist recurrence graph threshold\n",
        "\n",
        "#------ SVM classifier training stage-----\n",
        "\n",
        "rs = np.random.RandomState(seed=(1,2,3)) \n",
        "def get_features(x):  \n",
        "  eps = 3 * np.std(x) #classifier recurrence graph threshold\n",
        "  r_plot = anomalyDetClass.recurrencePlot(x,m,tau,eps) # Euclidean recurrence plot\n",
        "  features = anomalyDetClass.featureExtractionRQA(r_plot,1,2)\n",
        "  return features\n",
        "\n",
        "X_train = np.array([get_features(signal[i:j]) for i,j in zip(st[train_idx],nd[train_idx])])\n",
        "y_train = tags_array[train_idx]\n",
        "\n",
        "# features subspaces for each pair of classes\n",
        "# RR, dmean, dMax, vmean, vMax -- 0,1,2,3,4\n",
        "features_subspace = np.array([\n",
        "[0,2,3], #pulse-ramp\n",
        "[0,1,4], #pulse-step\n",
        "[0,1,3]  #step-ramp                            \n",
        "])\n",
        "\n",
        "#Prefer dual=False when samples > features.\n",
        "total_models = int(len(types) * (len(types) - 1) / 2)\n",
        "DAGSVM = [LinearSVC(dual=False,random_state=rs) for i in range(total_models)]\n",
        "\n",
        "#fit SVM models to samples\n",
        "i = 0\n",
        "for c in itertools.combinations(types, 2):  \n",
        "  id = np.r_[idx * c[0]:idx * (c[0]+1), idx * c[1]:idx * (c[1]+1)]\n",
        "  DAGSVM[i] = DAGSVM[i].fit(X_train[id,:][:,features_subspace[i]], y_train[id])    \n",
        "  i += 1"
      ],
      "metadata": {
        "id": "Y7Y0Y21I-FVa"
      },
      "execution_count": 3,
      "outputs": []
    },
    {
      "cell_type": "markdown",
      "source": [
        "# Detector test"
      ],
      "metadata": {
        "id": "1sVU8guzL0rk"
      }
    },
    {
      "cell_type": "code",
      "source": [
        "rs = np.random.RandomState(seed=(1,2,3)) \n",
        "titles = ['Pulse', 'Ramp', 'Step']\n",
        "\n",
        "def split_windows(st,nd = wS):  \n",
        "  #split anomaly in at least one window\n",
        "  ws = 1 #window step\n",
        "  wn = max(int((nd-st - wS)/ws)+1,1) #Number of windows   \n",
        "  windows = (st + ws * i for i in range(wn)) #retain only start index\n",
        "  return windows\n",
        "\n",
        "def energy(adj_mat):\n",
        "  deg = np.sum(adj_mat,0)    \n",
        "  normalized_energy = np.sum(deg ** 2 + deg) / ( Nphsp ** 2 * (Nphsp-1))  \n",
        "  return normalized_energy\n",
        "\n",
        "def detect(X,st,nd): #recurrence rate  \n",
        "  windows = split_windows(st,nd)          \n",
        "  det = np.array([ energy(anomalyDetClass.k_dist_RPlot(\n",
        "      X[w_st:w_st+wS],m,tau,k,eps)) < 1.0 for w_st in windows])    \n",
        "  # return np.round(np.mean(det)) #full anomaly captured > 50 %    \n",
        "  return np.any(det) #anomaly captured  \n",
        "\n",
        "#--------------------Detection evaluation score--------------------------\n",
        "\n",
        "y_pred = np.array([detect(signal,i,j) for i,j in zip(st[test_idx],nd[test_idx])] + [detect(signal_inliers,i,j) for i,j in zip(sst[test_idx],nnd[test_idx])])\n",
        "\n",
        "def evaluation_score(y_test,y_pred,title):\n",
        "  conf_matrix =  confusion_matrix(y_test, y_pred)\n",
        "  TP = np.diag(conf_matrix)\n",
        "  FP = conf_matrix.sum(axis=0) - TP  \n",
        "  FN = conf_matrix.sum(axis=1) - TP\n",
        "  TN = conf_matrix.sum() - (FP + FN + TP)\n",
        "\n",
        "  TPR = TP / (TP + FN)\n",
        "  TNR = TN / (TN + FP)\n",
        "  FPR = 1 - TNR\n",
        "  PREC = TP / (TP + FP)\n",
        "  F1 = 2 * TP / (2 * TP + FN + FP)\n",
        "  JACCARD = TP / (TP + FP + FN)\n",
        "  ACC = (TP + TN) / (TP+FP+FN+TN)\n",
        "\n",
        "  df = pd.DataFrame(np.array([TPR,TNR,FPR,PREC,F1,JACCARD,ACC]).T,\n",
        "                    columns=['TPR','TNR','FPR','PREC','F1','JACCARD','ACC'])\n",
        "  df = df.loc[df.index==0].style.set_caption(title).hide_index()  \n",
        "  display(df)\n",
        "\n",
        "test_len = nA - idx\n",
        "for i,_ in enumerate(types):\n",
        "  i0 = i*test_len  \n",
        "  i1 = (i+1)*test_len    \n",
        "  det_pred = np.append(y_pred[i0:i1],y_pred[-len(types) * test_len:][i0:i1])\n",
        "  evaluation_score(np.repeat([1,0],test_len),det_pred, titles[i])  \n"
      ],
      "metadata": {
        "colab": {
          "base_uri": "https://localhost:8080/",
          "height": 260
        },
        "id": "t4cJ4CH8vpIy",
        "outputId": "06838e63-02a8-4357-b602-1170f32ccb6e"
      },
      "execution_count": 4,
      "outputs": [
        {
          "output_type": "display_data",
          "data": {
            "text/html": [
              "<style type=\"text/css\">\n",
              "</style>\n",
              "<table id=\"T_cd2da_\" class=\"dataframe\">\n",
              "  <caption>Pulse</caption>\n",
              "  <thead>\n",
              "    <tr>\n",
              "      <th class=\"col_heading level0 col0\" >TPR</th>\n",
              "      <th class=\"col_heading level0 col1\" >TNR</th>\n",
              "      <th class=\"col_heading level0 col2\" >FPR</th>\n",
              "      <th class=\"col_heading level0 col3\" >PREC</th>\n",
              "      <th class=\"col_heading level0 col4\" >F1</th>\n",
              "      <th class=\"col_heading level0 col5\" >JACCARD</th>\n",
              "      <th class=\"col_heading level0 col6\" >ACC</th>\n",
              "    </tr>\n",
              "  </thead>\n",
              "  <tbody>\n",
              "    <tr>\n",
              "      <td id=\"T_cd2da_row0_col0\" class=\"data row0 col0\" >0.988500</td>\n",
              "      <td id=\"T_cd2da_row0_col1\" class=\"data row0 col1\" >1.000000</td>\n",
              "      <td id=\"T_cd2da_row0_col2\" class=\"data row0 col2\" >0.000000</td>\n",
              "      <td id=\"T_cd2da_row0_col3\" class=\"data row0 col3\" >1.000000</td>\n",
              "      <td id=\"T_cd2da_row0_col4\" class=\"data row0 col4\" >0.994217</td>\n",
              "      <td id=\"T_cd2da_row0_col5\" class=\"data row0 col5\" >0.988500</td>\n",
              "      <td id=\"T_cd2da_row0_col6\" class=\"data row0 col6\" >0.994250</td>\n",
              "    </tr>\n",
              "  </tbody>\n",
              "</table>\n"
            ],
            "text/plain": [
              "<pandas.io.formats.style.Styler at 0x7fdc41d90510>"
            ]
          },
          "metadata": {}
        },
        {
          "output_type": "display_data",
          "data": {
            "text/html": [
              "<style type=\"text/css\">\n",
              "</style>\n",
              "<table id=\"T_e4b04_\" class=\"dataframe\">\n",
              "  <caption>Ramp</caption>\n",
              "  <thead>\n",
              "    <tr>\n",
              "      <th class=\"col_heading level0 col0\" >TPR</th>\n",
              "      <th class=\"col_heading level0 col1\" >TNR</th>\n",
              "      <th class=\"col_heading level0 col2\" >FPR</th>\n",
              "      <th class=\"col_heading level0 col3\" >PREC</th>\n",
              "      <th class=\"col_heading level0 col4\" >F1</th>\n",
              "      <th class=\"col_heading level0 col5\" >JACCARD</th>\n",
              "      <th class=\"col_heading level0 col6\" >ACC</th>\n",
              "    </tr>\n",
              "  </thead>\n",
              "  <tbody>\n",
              "    <tr>\n",
              "      <td id=\"T_e4b04_row0_col0\" class=\"data row0 col0\" >0.983500</td>\n",
              "      <td id=\"T_e4b04_row0_col1\" class=\"data row0 col1\" >0.973000</td>\n",
              "      <td id=\"T_e4b04_row0_col2\" class=\"data row0 col2\" >0.027000</td>\n",
              "      <td id=\"T_e4b04_row0_col3\" class=\"data row0 col3\" >0.973281</td>\n",
              "      <td id=\"T_e4b04_row0_col4\" class=\"data row0 col4\" >0.978364</td>\n",
              "      <td id=\"T_e4b04_row0_col5\" class=\"data row0 col5\" >0.957644</td>\n",
              "      <td id=\"T_e4b04_row0_col6\" class=\"data row0 col6\" >0.978250</td>\n",
              "    </tr>\n",
              "  </tbody>\n",
              "</table>\n"
            ],
            "text/plain": [
              "<pandas.io.formats.style.Styler at 0x7fdc41399190>"
            ]
          },
          "metadata": {}
        },
        {
          "output_type": "display_data",
          "data": {
            "text/html": [
              "<style type=\"text/css\">\n",
              "</style>\n",
              "<table id=\"T_a4de4_\" class=\"dataframe\">\n",
              "  <caption>Step</caption>\n",
              "  <thead>\n",
              "    <tr>\n",
              "      <th class=\"col_heading level0 col0\" >TPR</th>\n",
              "      <th class=\"col_heading level0 col1\" >TNR</th>\n",
              "      <th class=\"col_heading level0 col2\" >FPR</th>\n",
              "      <th class=\"col_heading level0 col3\" >PREC</th>\n",
              "      <th class=\"col_heading level0 col4\" >F1</th>\n",
              "      <th class=\"col_heading level0 col5\" >JACCARD</th>\n",
              "      <th class=\"col_heading level0 col6\" >ACC</th>\n",
              "    </tr>\n",
              "  </thead>\n",
              "  <tbody>\n",
              "    <tr>\n",
              "      <td id=\"T_a4de4_row0_col0\" class=\"data row0 col0\" >0.983000</td>\n",
              "      <td id=\"T_a4de4_row0_col1\" class=\"data row0 col1\" >1.000000</td>\n",
              "      <td id=\"T_a4de4_row0_col2\" class=\"data row0 col2\" >0.000000</td>\n",
              "      <td id=\"T_a4de4_row0_col3\" class=\"data row0 col3\" >1.000000</td>\n",
              "      <td id=\"T_a4de4_row0_col4\" class=\"data row0 col4\" >0.991427</td>\n",
              "      <td id=\"T_a4de4_row0_col5\" class=\"data row0 col5\" >0.983000</td>\n",
              "      <td id=\"T_a4de4_row0_col6\" class=\"data row0 col6\" >0.991500</td>\n",
              "    </tr>\n",
              "  </tbody>\n",
              "</table>\n"
            ],
            "text/plain": [
              "<pandas.io.formats.style.Styler at 0x7fdc4169b8d0>"
            ]
          },
          "metadata": {}
        }
      ]
    },
    {
      "cell_type": "markdown",
      "source": [
        "# Classifier test"
      ],
      "metadata": {
        "id": "XbNzopGwM34X"
      }
    },
    {
      "cell_type": "code",
      "source": [
        "#--------------------Classification evaluation score--------------------------\n",
        "def evaluation_score(y_test,y_pred,title):\n",
        "  titles = ['Pulse', 'Ramp', 'Step']\n",
        "  conf_matrix =  confusion_matrix(y_test, y_pred)\n",
        "  TP = np.diag(conf_matrix)\n",
        "  FP = conf_matrix.sum(axis=0) - TP  \n",
        "  FN = conf_matrix.sum(axis=1) - TP\n",
        "  TN = conf_matrix.sum() - (FP + FN + TP)\n",
        "\n",
        "  TPR = TP / (TP + FN)\n",
        "  TNR = TN / (TN + FP)\n",
        "  FPR = 1 - TNR\n",
        "  PREC = TP / (TP + FP)\n",
        "  F1 = 2 * TP / (2 * TP + FN + FP)\n",
        "  JACCARD = TP / (TP + FP + FN)\n",
        "  ACC = (TP + TN) / (TP+FP+FN+TN)\n",
        "\n",
        "  df = pd.DataFrame(np.array([TPR,TNR,FPR,PREC,F1,JACCARD,ACC]).T,\n",
        "                    columns=['TPR','TNR','FPR','PREC','F1','JACCARD','ACC'],\n",
        "                    index=titles)\n",
        "  df = df.style.set_caption(title)\n",
        "  display(df)\n",
        "\n",
        "X_test = np.array([get_features(signal[i:j]) for i,j in zip(st[test_idx],nd[test_idx])])\n",
        "y_test = tags_array[test_idx]\n",
        "\n",
        "y_pred = DAGSVM[0].predict(X_test[:,features_subspace[0]]) \n",
        "c1 = y_pred == 0\n",
        "c2 = np.invert(c1)\n",
        "y_pred[c1] = DAGSVM[1].predict(X_test[c1,:][:,features_subspace[1]])\n",
        "y_pred[c2] = DAGSVM[2].predict(X_test[c2,:][:,features_subspace[2]])\n",
        "\n",
        "evaluation_score(y_test,y_pred,'DAGSVM')"
      ],
      "metadata": {
        "colab": {
          "base_uri": "https://localhost:8080/",
          "height": 161
        },
        "id": "fS5m04McLsSp",
        "outputId": "819e173a-4c0f-4a24-b063-f523895a9cd4"
      },
      "execution_count": 5,
      "outputs": [
        {
          "output_type": "display_data",
          "data": {
            "text/html": [
              "<style type=\"text/css\">\n",
              "</style>\n",
              "<table id=\"T_954b9_\" class=\"dataframe\">\n",
              "  <caption>DAGSVM</caption>\n",
              "  <thead>\n",
              "    <tr>\n",
              "      <th class=\"blank level0\" >&nbsp;</th>\n",
              "      <th class=\"col_heading level0 col0\" >TPR</th>\n",
              "      <th class=\"col_heading level0 col1\" >TNR</th>\n",
              "      <th class=\"col_heading level0 col2\" >FPR</th>\n",
              "      <th class=\"col_heading level0 col3\" >PREC</th>\n",
              "      <th class=\"col_heading level0 col4\" >F1</th>\n",
              "      <th class=\"col_heading level0 col5\" >JACCARD</th>\n",
              "      <th class=\"col_heading level0 col6\" >ACC</th>\n",
              "    </tr>\n",
              "  </thead>\n",
              "  <tbody>\n",
              "    <tr>\n",
              "      <th id=\"T_954b9_level0_row0\" class=\"row_heading level0 row0\" >Pulse</th>\n",
              "      <td id=\"T_954b9_row0_col0\" class=\"data row0 col0\" >1.000000</td>\n",
              "      <td id=\"T_954b9_row0_col1\" class=\"data row0 col1\" >1.000000</td>\n",
              "      <td id=\"T_954b9_row0_col2\" class=\"data row0 col2\" >0.000000</td>\n",
              "      <td id=\"T_954b9_row0_col3\" class=\"data row0 col3\" >1.000000</td>\n",
              "      <td id=\"T_954b9_row0_col4\" class=\"data row0 col4\" >1.000000</td>\n",
              "      <td id=\"T_954b9_row0_col5\" class=\"data row0 col5\" >1.000000</td>\n",
              "      <td id=\"T_954b9_row0_col6\" class=\"data row0 col6\" >1.000000</td>\n",
              "    </tr>\n",
              "    <tr>\n",
              "      <th id=\"T_954b9_level0_row1\" class=\"row_heading level0 row1\" >Ramp</th>\n",
              "      <td id=\"T_954b9_row1_col0\" class=\"data row1 col0\" >0.990000</td>\n",
              "      <td id=\"T_954b9_row1_col1\" class=\"data row1 col1\" >0.996000</td>\n",
              "      <td id=\"T_954b9_row1_col2\" class=\"data row1 col2\" >0.004000</td>\n",
              "      <td id=\"T_954b9_row1_col3\" class=\"data row1 col3\" >0.991984</td>\n",
              "      <td id=\"T_954b9_row1_col4\" class=\"data row1 col4\" >0.990991</td>\n",
              "      <td id=\"T_954b9_row1_col5\" class=\"data row1 col5\" >0.982143</td>\n",
              "      <td id=\"T_954b9_row1_col6\" class=\"data row1 col6\" >0.994000</td>\n",
              "    </tr>\n",
              "    <tr>\n",
              "      <th id=\"T_954b9_level0_row2\" class=\"row_heading level0 row2\" >Step</th>\n",
              "      <td id=\"T_954b9_row2_col0\" class=\"data row2 col0\" >0.992000</td>\n",
              "      <td id=\"T_954b9_row2_col1\" class=\"data row2 col1\" >0.995000</td>\n",
              "      <td id=\"T_954b9_row2_col2\" class=\"data row2 col2\" >0.005000</td>\n",
              "      <td id=\"T_954b9_row2_col3\" class=\"data row2 col3\" >0.990020</td>\n",
              "      <td id=\"T_954b9_row2_col4\" class=\"data row2 col4\" >0.991009</td>\n",
              "      <td id=\"T_954b9_row2_col5\" class=\"data row2 col5\" >0.982178</td>\n",
              "      <td id=\"T_954b9_row2_col6\" class=\"data row2 col6\" >0.994000</td>\n",
              "    </tr>\n",
              "  </tbody>\n",
              "</table>\n"
            ],
            "text/plain": [
              "<pandas.io.formats.style.Styler at 0x7fdc53fdb2d0>"
            ]
          },
          "metadata": {}
        }
      ]
    }
  ]
}